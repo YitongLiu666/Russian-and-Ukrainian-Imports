{
  "metadata": {
    "kernelspec": {
      "name": "python3",
      "display_name": "Python 3 (ipykernel)",
      "language": "python"
    },
    "colab": {
      "provenance": []
    }
  },
  "nbformat": 4,
  "nbformat_minor": 0,
  "cells": [
    {
      "cell_type": "markdown",
      "metadata": {
        "id": "ek4WRd0OLRbX"
      },
      "source": [
        "## Dependence on Russian and Ukrainian Imports\n",
        "\n",
        "As the world is changing this week, we can try to understand how important Russian and Ukrainian imports are to the US.\n",
        "\n",
        "[Census.Gov](https://www.census.gov/data/developers/data-sets/international-trade.html) has international trade data exposed for us to download.\n"
      ]
    },
    {
      "cell_type": "code",
      "execution_count": null,
      "metadata": {
        "id": "54AmiwgvLRbb"
      },
      "outputs": [],
      "source": [
        "import requests"
      ]
    },
    {
      "cell_type": "code",
      "execution_count": null,
      "metadata": {
        "id": "UTpkHLlPLRbc"
      },
      "outputs": [],
      "source": [
        "base_url = \"http://api.census.gov/data/timeseries/intltrade/imports/enduse?\"\n",
        "params = {\"get\": \"CTY_CODE,CTY_NAME,I_ENDUSE,I_ENDUSE_LDESC,GEN_VAL_MO,CON_VAL_MO\",\n",
        "          \"time\": \"2013-01\"}\n",
        "resp = requests.get(base_url, params=params)"
      ]
    },
    {
      "cell_type": "code",
      "execution_count": null,
      "metadata": {
        "id": "LD_N4T2qLRbc",
        "outputId": "60ecf054-5d86-4f19-91c9-3717d024b6b7"
      },
      "outputs": [
        {
          "data": {
            "text/plain": "200"
          },
          "execution_count": 4,
          "metadata": {},
          "output_type": "execute_result"
        }
      ],
      "source": [
        "resp.status_code"
      ]
    },
    {
      "cell_type": "code",
      "execution_count": null,
      "metadata": {
        "id": "0r7Nu1jVLRbd"
      },
      "outputs": [],
      "source": [
        "dat = resp.json()"
      ]
    },
    {
      "cell_type": "code",
      "execution_count": null,
      "metadata": {
        "id": "3MfjsytQLRbd",
        "outputId": "352e18a9-1edb-45ca-8d3d-8fd230cbae05"
      },
      "outputs": [
        {
          "data": {
            "text/plain": "list"
          },
          "execution_count": 6,
          "metadata": {},
          "output_type": "execute_result"
        }
      ],
      "source": [
        "type(dat)"
      ]
    },
    {
      "cell_type": "code",
      "execution_count": null,
      "metadata": {
        "id": "hynjRsEQLRbd",
        "outputId": "90620489-dca5-4374-b83e-8fe2c45a0341"
      },
      "outputs": [
        {
          "data": {
            "text/plain": "13044"
          },
          "execution_count": 7,
          "metadata": {},
          "output_type": "execute_result"
        }
      ],
      "source": [
        "len(dat)"
      ]
    },
    {
      "cell_type": "code",
      "execution_count": null,
      "metadata": {
        "id": "vHr_uXTlLRbe",
        "outputId": "10466dc3-8e07-46cc-ea0c-896bf740370e"
      },
      "outputs": [
        {
          "data": {
            "text/plain": "7"
          },
          "execution_count": 8,
          "metadata": {},
          "output_type": "execute_result"
        }
      ],
      "source": [
        "len(dat[10])"
      ]
    },
    {
      "cell_type": "code",
      "execution_count": null,
      "metadata": {
        "id": "blRF0gSiLRbe",
        "outputId": "9e5944c9-b3e3-4ae6-c817-c2c21a24ee75"
      },
      "outputs": [
        {
          "data": {
            "text/plain": "[['CTY_CODE',\n  'CTY_NAME',\n  'I_ENDUSE',\n  'I_ENDUSE_LDESC',\n  'GEN_VAL_MO',\n  'CON_VAL_MO',\n  'time'],\n ['4050',\n  'FINLAND',\n  '-',\n  'TOTAL IMPORTS FOR ALL END-USE CODES',\n  '319554327',\n  '335786013',\n  '2013-01'],\n ['4635',\n  'KYRGYZSTAN',\n  '-',\n  'TOTAL IMPORTS FOR ALL END-USE CODES',\n  '17592',\n  '17592',\n  '2013-01']]"
          },
          "execution_count": 9,
          "metadata": {},
          "output_type": "execute_result"
        }
      ],
      "source": [
        "dat[:3]"
      ]
    },
    {
      "cell_type": "code",
      "execution_count": null,
      "metadata": {
        "id": "ZOw-rAZdLRbe"
      },
      "outputs": [],
      "source": [
        "import pandas as pd\n",
        "\n",
        "df = pd.DataFrame(dat[1:], columns=dat[0])"
      ]
    },
    {
      "cell_type": "code",
      "execution_count": null,
      "metadata": {
        "id": "f90cU0AaLRbe",
        "outputId": "c16a1298-baa4-407e-a5d6-0d1fac31865f"
      },
      "outputs": [
        {
          "data": {
            "text/plain": "(13043, 7)"
          },
          "execution_count": 11,
          "metadata": {},
          "output_type": "execute_result"
        }
      ],
      "source": [
        "df.shape"
      ]
    },
    {
      "cell_type": "code",
      "execution_count": null,
      "metadata": {
        "id": "A4Fjp_q4LRbf",
        "outputId": "cd5f6975-96a8-4c2c-d6da-b3046e837f96"
      },
      "outputs": [
        {
          "data": {
            "text/html": "<div>\n<style scoped>\n    .dataframe tbody tr th:only-of-type {\n        vertical-align: middle;\n    }\n\n    .dataframe tbody tr th {\n        vertical-align: top;\n    }\n\n    .dataframe thead th {\n        text-align: right;\n    }\n</style>\n<table border=\"1\" class=\"dataframe\">\n  <thead>\n    <tr style=\"text-align: right;\">\n      <th></th>\n      <th>CTY_CODE</th>\n      <th>CTY_NAME</th>\n      <th>I_ENDUSE</th>\n      <th>I_ENDUSE_LDESC</th>\n      <th>GEN_VAL_MO</th>\n      <th>CON_VAL_MO</th>\n      <th>time</th>\n    </tr>\n  </thead>\n  <tbody>\n    <tr>\n      <th>0</th>\n      <td>4050</td>\n      <td>FINLAND</td>\n      <td>-</td>\n      <td>TOTAL IMPORTS FOR ALL END-USE CODES</td>\n      <td>319554327</td>\n      <td>335786013</td>\n      <td>2013-01</td>\n    </tr>\n    <tr>\n      <th>1</th>\n      <td>4635</td>\n      <td>KYRGYZSTAN</td>\n      <td>-</td>\n      <td>TOTAL IMPORTS FOR ALL END-USE CODES</td>\n      <td>17592</td>\n      <td>17592</td>\n      <td>2013-01</td>\n    </tr>\n  </tbody>\n</table>\n</div>",
            "text/plain": "  CTY_CODE    CTY_NAME I_ENDUSE                       I_ENDUSE_LDESC  \\\n0     4050     FINLAND        -  TOTAL IMPORTS FOR ALL END-USE CODES   \n1     4635  KYRGYZSTAN        -  TOTAL IMPORTS FOR ALL END-USE CODES   \n\n  GEN_VAL_MO CON_VAL_MO     time  \n0  319554327  335786013  2013-01  \n1      17592      17592  2013-01  "
          },
          "execution_count": 12,
          "metadata": {},
          "output_type": "execute_result"
        }
      ],
      "source": [
        "df.head(2)"
      ]
    },
    {
      "cell_type": "markdown",
      "metadata": {
        "id": "DVLD12S7LRbf"
      },
      "source": [
        "## Get more data\n",
        "\n",
        "- Get the general imports value for all end-use codes for 2013-2020 for the months 01-12.\n",
        "- Combine all of the data into one data frame"
      ]
    },
    {
      "cell_type": "code",
      "execution_count": null,
      "metadata": {
        "id": "cz5ZHjedLRbf"
      },
      "outputs": [],
      "source": [
        "# Shrinking the years so Ed doesn't crash\n",
        "years = list(range(2018, 2021))\n",
        "months = range(1, 13)"
      ]
    },
    {
      "cell_type": "code",
      "execution_count": null,
      "metadata": {
        "id": "cbIBj55aLRbf",
        "outputId": "ff760875-56f9-4f08-ec76-0c861c9c0c9c"
      },
      "outputs": [
        {
          "name": "stdout",
          "output_type": "stream",
          "text": "2018\n2019\n"
        }
      ],
      "source": [
        "dfs = []\n",
        "for year in years:\n",
        "    print(year)\n",
        "    for month in months:\n",
        "        # year = \"2020\"\n",
        "        # month = \"01\"\n",
        "        month = month if month >= 10 else \"0\" + str(month)\n",
        "        base_url = \"http://api.census.gov/data/timeseries/intltrade/imports/enduse?\"\n",
        "        params = {\"get\": \"CTY_CODE,CTY_NAME,I_ENDUSE,I_ENDUSE_LDESC,GEN_VAL_MO,CON_VAL_MO\",\n",
        "                  \"time\": \"{YEAR}-{MONTH}\".format(YEAR=year, MONTH=month)}\n",
        "        resp = requests.get(base_url, params=params)\n",
        "        dat = resp.json()\n",
        "        df = pd.DataFrame(dat[1:], columns=dat[0])\n",
        "        dfs.append(df)"
      ]
    },
    {
      "cell_type": "code",
      "execution_count": null,
      "metadata": {
        "id": "UD3s7rZcLRbg"
      },
      "outputs": [],
      "source": [
        "bdf = pd.concat(dfs)"
      ]
    },
    {
      "cell_type": "code",
      "execution_count": null,
      "metadata": {
        "id": "9Cp39G2TLRbg",
        "outputId": "8817b0a1-75f2-44a4-c0d0-204d59404501"
      },
      "outputs": [
        {
          "data": {
            "text/html": "<div>\n<style scoped>\n    .dataframe tbody tr th:only-of-type {\n        vertical-align: middle;\n    }\n\n    .dataframe tbody tr th {\n        vertical-align: top;\n    }\n\n    .dataframe thead th {\n        text-align: right;\n    }\n</style>\n<table border=\"1\" class=\"dataframe\">\n  <thead>\n    <tr style=\"text-align: right;\">\n      <th></th>\n      <th>CTY_CODE</th>\n      <th>CTY_NAME</th>\n      <th>I_ENDUSE</th>\n      <th>I_ENDUSE_LDESC</th>\n      <th>GEN_VAL_MO</th>\n      <th>CON_VAL_MO</th>\n      <th>time</th>\n    </tr>\n  </thead>\n  <tbody>\n    <tr>\n      <th>19097</th>\n      <td>3070</td>\n      <td>VENEZUELA</td>\n      <td>50040</td>\n      <td>OTHER (MOVIES, MISCELLANEOUS IMPORTS, AND SPEC...</td>\n      <td>0</td>\n      <td>0</td>\n      <td>2020-12</td>\n    </tr>\n    <tr>\n      <th>19098</th>\n      <td>3120</td>\n      <td>GUYANA</td>\n      <td>50040</td>\n      <td>OTHER (MOVIES, MISCELLANEOUS IMPORTS, AND SPEC...</td>\n      <td>78669</td>\n      <td>78669</td>\n      <td>2020-12</td>\n    </tr>\n    <tr>\n      <th>19099</th>\n      <td>3150</td>\n      <td>SURINAME</td>\n      <td>50040</td>\n      <td>OTHER (MOVIES, MISCELLANEOUS IMPORTS, AND SPEC...</td>\n      <td>75674</td>\n      <td>75674</td>\n      <td>2020-12</td>\n    </tr>\n  </tbody>\n</table>\n</div>",
            "text/plain": "      CTY_CODE   CTY_NAME I_ENDUSE  \\\n19097     3070  VENEZUELA    50040   \n19098     3120     GUYANA    50040   \n19099     3150   SURINAME    50040   \n\n                                          I_ENDUSE_LDESC GEN_VAL_MO  \\\n19097  OTHER (MOVIES, MISCELLANEOUS IMPORTS, AND SPEC...          0   \n19098  OTHER (MOVIES, MISCELLANEOUS IMPORTS, AND SPEC...      78669   \n19099  OTHER (MOVIES, MISCELLANEOUS IMPORTS, AND SPEC...      75674   \n\n      CON_VAL_MO     time  \n19097          0  2020-12  \n19098      78669  2020-12  \n19099      75674  2020-12  "
          },
          "execution_count": 14,
          "metadata": {},
          "output_type": "execute_result"
        }
      ],
      "source": [
        "bdf.tail(3)"
      ]
    },
    {
      "cell_type": "markdown",
      "metadata": {
        "id": "HVJBCIHILRbg"
      },
      "source": [
        "##  Analyze the Dependence\n",
        "\n",
        "Quantify a major dependence we have on Russia or Ukrain using the data we've collected."
      ]
    },
    {
      "cell_type": "code",
      "execution_count": null,
      "metadata": {
        "id": "Hzos39JxLRbg"
      },
      "outputs": [],
      "source": [
        "sdf = bdf_grp.get_group(grp)\n",
        "from_russian = sdf.CTY_NAME == \"RUSSIA\"\n"
      ]
    },
    {
      "cell_type": "code",
      "execution_count": null,
      "metadata": {
        "id": "a9u9DLXALRbh",
        "outputId": "ebf60464-4cf2-443b-9e2a-551ee3e43241"
      },
      "outputs": [
        {
          "data": {
            "text/plain": "(4024, 7)"
          },
          "execution_count": 20,
          "metadata": {},
          "output_type": "execute_result"
        }
      ],
      "source": [
        "sdf.shape"
      ]
    },
    {
      "cell_type": "code",
      "execution_count": null,
      "metadata": {
        "id": "6Ho7ruZwLRbh"
      },
      "outputs": [],
      "source": [
        "russia_val = sdf.loc[from_russian, \"GEN_VAL_MO\"]"
      ]
    },
    {
      "cell_type": "code",
      "execution_count": null,
      "metadata": {
        "id": "F2OaXD4sLRbh",
        "outputId": "0a8d042c-4961-4473-ebd4-857391eb2c8a"
      },
      "outputs": [
        {
          "data": {
            "text/plain": "7180941.0"
          },
          "execution_count": 36,
          "metadata": {},
          "output_type": "execute_result"
        }
      ],
      "source": [
        "russia_val.astype(float).sum()"
      ]
    },
    {
      "cell_type": "code",
      "execution_count": null,
      "metadata": {
        "id": "fYnQs7QALRbh"
      },
      "outputs": [],
      "source": [
        "bdf_grp = bdf.groupby(\"I_ENDUSE_LDESC\")\n",
        "\n",
        "prop_russia = {}\n",
        "for grp in bdf_grp.groups:\n",
        "    sdf = bdf_grp.get_group(grp)\n",
        "    from_russian = sdf.CTY_NAME == \"RUSSIA\"\n",
        "    russia_val = sdf.loc[from_russian, \"GEN_VAL_MO\"].astype(float).sum()\n",
        "    prop_russia.update({grp: russia_val / sdf.GEN_VAL_MO.astype(float).sum()})"
      ]
    },
    {
      "cell_type": "code",
      "execution_count": null,
      "metadata": {
        "id": "EPHnMnA0LRbh",
        "outputId": "53d86a06-340f-4648-b1ca-7e7fa92068e9"
      },
      "outputs": [
        {
          "data": {
            "text/plain": "[('NONFERROUS METALS, OTHER', 0.008325050758562219),\n ('OTHER MILITARY EQUIPMENT', 0.008895039279254493),\n ('PLYWOOD AND VENEERS', 0.00986277801523884),\n ('NICKEL', 0.01232060479631816),\n ('CHEMICALS-FERTILIZERS', 0.014133116188763358),\n ('OTHER PRECIOUS METALS', 0.021334977908361304),\n ('STEELMAKING MATERIALS', 0.027548659235540184),\n ('NUCLEAR FUEL MATERIALS', 0.038887036518478385),\n ('FUEL OIL', 0.05804145846671529),\n ('SPACECRAFT, EXCLUDING MILITARY', 0.1342180905408842)]"
          },
          "execution_count": 43,
          "metadata": {},
          "output_type": "execute_result"
        }
      ],
      "source": [
        "sorted([(k, v) for k, v in prop_russia.items()], key=lambda x: x[1])[-10:]"
      ]
    },
    {
      "cell_type": "code",
      "execution_count": null,
      "metadata": {
        "id": "MvxnA66ALRbi"
      },
      "outputs": [],
      "source": []
    },
    {
      "cell_type": "code",
      "execution_count": null,
      "metadata": {
        "id": "Tr6sfD-vLRbi"
      },
      "outputs": [],
      "source": []
    }
  ]
}